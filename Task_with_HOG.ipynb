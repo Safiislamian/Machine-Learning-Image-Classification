{
 "cells": [
  {
   "cell_type": "markdown",
   "id": "18fe28f0",
   "metadata": {},
   "source": [
    "### Importing All important Libraries"
   ]
  },
  {
   "cell_type": "code",
   "execution_count": 1,
   "id": "3725e75f",
   "metadata": {},
   "outputs": [],
   "source": [
    "import pandas as pd\n",
    "import time\n",
    "import cv2 as cv\n",
    "from skimage.feature import hog\n",
    "from sklearn import svm\n",
    "from sklearn.model_selection import GridSearchCV\n",
    "import os\n",
    "import matplotlib.pyplot as plt\n",
    "from skimage.transform import resize\n",
    "from skimage.io import imread\n",
    "import numpy as np\n",
    "from sklearn.model_selection import train_test_split\n",
    "from sklearn.metrics import classification_report,accuracy_score,confusion_matrix\n",
    "import pickle"
   ]
  },
  {
   "cell_type": "markdown",
   "id": "61401716",
   "metadata": {},
   "source": [
    "#### Applying HOG"
   ]
  },
  {
   "cell_type": "code",
   "execution_count": 41,
   "id": "1993a00b",
   "metadata": {},
   "outputs": [],
   "source": [
    "hog_vectors = []\n",
    "labels = []\n",
    "datadir = \"Image_Classification\"\n",
    "\n",
    "class_labels=['Cars','Ice cream cone','Cricket ball']\n",
    "# Loop over each image in the directory\n",
    "for i, class_label in enumerate(class_labels):\n",
    "    for file in os.listdir(os.path.join(datadir, class_label)):\n",
    "        if file.endswith(\".jpg\"):\n",
    "            # Load the image\n",
    "            img = cv.imread(os.path.join(datadir, class_label, file))\n",
    "            img=cv.resize(img , (64, 128))\n",
    "            gray = cv.cvtColor(img, cv.COLOR_BGR2GRAY)\n",
    "            # Extract the hog features\n",
    "            hog_features, hog_image = hog(gray, orientations= 9, pixels_per_cell = (8, 8), cells_per_block = (2, 2), block_norm='L2-Hys', visualize=True)\n",
    "\n",
    "            hog_vectors.append(hog_features)\n",
    "            labels.append(i)\n",
    "          \n",
    "\n",
    "#Convert list to np.array\n",
    "hog_vectors = np.array(hog_vectors)\n",
    "\n",
    "# Convert list feature to nparray\n",
    "labels = np.array(labels)\n",
    "df=pd.DataFrame(hog_vectors)\n",
    "df['Target']=labels\n"
   ]
  },
  {
   "cell_type": "markdown",
   "id": "3298f581",
   "metadata": {},
   "source": [
    "#### Spliting data into x and y, applying feature Scaling"
   ]
  },
  {
   "cell_type": "code",
   "execution_count": 42,
   "id": "1c29607c",
   "metadata": {},
   "outputs": [],
   "source": [
    "\n",
    "# lets seperate xtrain xtest ytrain ytest data\n",
    "from sklearn.model_selection import train_test_split\n",
    "x=df.iloc[:,:-1]\n",
    "y=df.iloc[:,-1]\n",
    "\n",
    "# # for hog extractor\n",
    "x_train , x_test, y_train, y_test=train_test_split(hog_vectors,labels, test_size=0.20)\n",
    "\n",
    "#standarize the data\n",
    "from sklearn.metrics import accuracy_score, precision_score, recall_score\n",
    "\n",
    "from sklearn.preprocessing import StandardScaler\n",
    "scaler=StandardScaler()\n",
    "\n",
    "\n",
    "x_train=scaler.fit_transform(x_train)\n",
    "x_test=scaler.transform(x_test)"
   ]
  },
  {
   "cell_type": "markdown",
   "id": "f03d12ff",
   "metadata": {},
   "source": [
    "### Logistic Regression"
   ]
  },
  {
   "cell_type": "code",
   "execution_count": 43,
   "id": "915b62ec",
   "metadata": {},
   "outputs": [
    {
     "name": "stderr",
     "output_type": "stream",
     "text": [
      "C:\\Users\\safi\\anaconda3\\lib\\site-packages\\sklearn\\linear_model\\_logistic.py:763: ConvergenceWarning: lbfgs failed to converge (status=1):\n",
      "STOP: TOTAL NO. of ITERATIONS REACHED LIMIT.\n",
      "\n",
      "Increase the number of iterations (max_iter) or scale the data as shown in:\n",
      "    https://scikit-learn.org/stable/modules/preprocessing.html\n",
      "Please also refer to the documentation for alternative solver options:\n",
      "    https://scikit-learn.org/stable/modules/linear_model.html#logistic-regression\n",
      "  n_iter_i = _check_optimize_result(\n"
     ]
    },
    {
     "name": "stdout",
     "output_type": "stream",
     "text": [
      "Training time: 1.250 seconds\n",
      "Actual Values [2 2 2 0 1 0 1 2 2 0 0 2 1 0 1 2 0 1 0 0 2 0 2 2 2 0 2 0 2 2 1 0 2 0 0 2 2\n",
      " 0 2 1 1 0 2 0 2 1 1 2 0 0 0 1 1 2 1 1 0 0 0 0 2 0 1 2 0 2 1 0 2 2 2 0 0 0\n",
      " 1 1 1 1 2 0 1 2 1 2 1 0 0 1 1 1 2 2 0 2 1 2 2 1 2 0 1 1 0 0 2 0 1 2 2 0 2\n",
      " 0 1 2 0 0 0 0 2 0 2 1 2 0 1 2 2 2 1 1 0 2 0 0 2 1 2 1 0 2 0 1 1 0 1 0 1 2\n",
      " 0 2 1 0 1 2 0 2 0 0 2 0 2 1 0 2 1 2 2 0 0 1 1 2 0 1 0 1 0 2 1 0 0 2 0 2 1\n",
      " 0 0 1 2 2 0 2 2]\n",
      "Predicted Values [2 2 2 0 1 0 1 2 2 0 0 2 1 0 1 2 0 1 0 0 2 0 2 2 2 0 2 0 2 2 1 0 2 0 0 2 2\n",
      " 0 2 1 1 0 2 0 2 1 1 2 0 0 0 1 1 2 1 1 0 0 0 0 2 0 1 2 0 2 1 0 2 2 2 0 0 0\n",
      " 1 1 1 1 2 0 1 2 1 2 1 0 0 1 1 1 2 2 0 2 1 2 2 1 2 0 1 1 0 0 2 0 1 2 2 0 2\n",
      " 0 1 2 0 0 0 0 2 0 2 1 2 0 1 2 2 2 1 1 0 2 2 0 2 1 2 1 0 2 0 1 1 0 1 0 1 2\n",
      " 0 2 1 0 1 2 0 2 0 0 2 0 1 1 0 2 1 2 2 0 0 1 1 2 0 1 0 1 0 2 1 0 0 2 0 2 0\n",
      " 0 0 1 2 2 0 2 2]\n",
      "Accuracy for training of  :  1.0\n",
      "Accuracy Test time in Logistic Regression :  0.9844559585492227\n",
      "[[70  0  1]\n",
      " [ 1 52  0]\n",
      " [ 0  1 68]]\n"
     ]
    },
    {
     "data": {
      "image/png": "[encoded data removed]",
      "text/plain": [
       "<Figure size 720x576 with 2 Axes>"
      ]
     },
     "metadata": {
      "needs_background": "light"
     },
     "output_type": "display_data"
    }
   ],
   "source": [
    "# Importing libraries\n",
    "from sklearn.linear_model import LogisticRegression\n",
    "from sklearn.metrics import accuracy_score\n",
    "\n",
    "classifier = LogisticRegression()\n",
    "\n",
    "start_time = time.time()    \n",
    "classifier.fit(x_train, y_train)\n",
    "end_time = time.time()\n",
    "training_time = end_time - start_time\n",
    "print(\"Training time: {:.3f} seconds\".format(training_time))\n",
    "\n",
    "y_train_pred = classifier.predict(x_train)\n",
    "y_pred = classifier.predict(x_test)\n",
    "\n",
    "print('Actual Values', y_test)\n",
    "print('Predicted Values', y_pred)\n",
    "\n",
    "print('Accuracy for training of  : ', accuracy_score(y_train, y_train_pred))\n",
    "print('Accuracy Test time in Logistic Regression : ', accuracy_score(y_test, y_pred) )\n",
    "\n",
    "# Confusion matrix\n",
    "from sklearn.metrics import confusion_matrix\n",
    "confusion_matrix = confusion_matrix(y_test,y_pred)\n",
    "print(confusion_matrix)\n",
    "\n",
    "import seaborn as sns\n",
    "import matplotlib.pyplot as plt\n",
    "\n",
    "# Create a heatmap for the confusion matrix\n",
    "plt.figure(figsize=(10, 8))\n",
    "sns.heatmap(confusion_matrix, annot=True, fmt='d', cmap='Blues')\n",
    "plt.xlabel('Predicted Labels')\n",
    "plt.ylabel('True Labels')\n",
    "plt.title('Confusion Matrix')\n",
    "\n",
    "plt.show()"
   ]
  },
  {
   "cell_type": "markdown",
   "id": "f3286e59",
   "metadata": {},
   "source": [
    "### Support Vector Machine"
   ]
  },
  {
   "cell_type": "code",
   "execution_count": 44,
   "id": "066a5cd6",
   "metadata": {},
   "outputs": [
    {
     "name": "stdout",
     "output_type": "stream",
     "text": [
      "time complexity :0.972 \n",
      "Traning Accuracy is :  1.0\n",
      "Testing Accuracy is :  0.9792746113989638\n",
      "[[70  0  1]\n",
      " [ 2 51  0]\n",
      " [ 1  0 68]]\n"
     ]
    },
    {
     "data": {
      "image/png": "[encoded data removed]",
      "text/plain": [
       "<Figure size 720x576 with 2 Axes>"
      ]
     },
     "metadata": {
      "needs_background": "light"
     },
     "output_type": "display_data"
    }
   ],
   "source": [
    "from sklearn.svm import SVC \n",
    "\n",
    "# Next we perform the step above of (data_Spliting and StandardScaler)\n",
    "\n",
    "classifier = SVC(kernel = 'linear', random_state = 0)\n",
    "\n",
    "start_time = time.time()\n",
    "classifier.fit(x_train, y_train)\n",
    "end_time = time.time()\n",
    "\n",
    "training_time = end_time - start_time\n",
    "print(\"time complexity :{:.3f} \".format(training_time))\n",
    "\n",
    "y_pred_train = classifier.predict(x_train)\n",
    "y_pred = classifier.predict(x_test)\n",
    "\n",
    "print('Traning Accuracy is : ', accuracy_score(y_train, y_pred_train))\n",
    "print('Testing Accuracy is : ', accuracy_score(y_test, y_pred))\n",
    "\n",
    "# Now we can also find the cofusion_matrix\n",
    "from sklearn.metrics import confusion_matrix\n",
    "confusion_matrix = confusion_matrix(y_test,y_pred)\n",
    "print(confusion_matrix)\n",
    "\n",
    "import seaborn as sns\n",
    "import matplotlib.pyplot as plt\n",
    "\n",
    "# Create a heatmap for the confusion matrix\n",
    "plt.figure(figsize=(10, 8))\n",
    "sns.heatmap(confusion_matrix, annot=True, fmt='d', cmap='Blues')\n",
    "plt.xlabel('Predicted Labels')\n",
    "plt.ylabel('True Labels')\n",
    "plt.title('Confusion Matrix')\n",
    "\n",
    "plt.show()"
   ]
  },
  {
   "cell_type": "markdown",
   "id": "db5cd22b",
   "metadata": {},
   "source": [
    "### Decision Tree"
   ]
  },
  {
   "cell_type": "code",
   "execution_count": 45,
   "id": "34cf0b0e",
   "metadata": {},
   "outputs": [
    {
     "name": "stdout",
     "output_type": "stream",
     "text": [
      "time complexity :2.140 \n",
      "Training State Accuracy :  1.0\n",
      "Testing state Accuracy :  0.7564766839378239\n",
      "[[52  9 10]\n",
      " [ 6 40  7]\n",
      " [ 7  8 54]]\n"
     ]
    },
    {
     "data": {
      "image/png": "[encoded data removed]",
      "text/plain": [
       "<Figure size 720x576 with 2 Axes>"
      ]
     },
     "metadata": {
      "needs_background": "light"
     },
     "output_type": "display_data"
    }
   ],
   "source": [
    "from sklearn.tree import DecisionTreeClassifier\n",
    "\n",
    "tree = DecisionTreeClassifier(criterion = 'gini')\n",
    "\n",
    "start_time = time.time()\n",
    "tree.fit(x_train, y_train)\n",
    "end_time = time.time()\n",
    "\n",
    "training_time = end_time - start_time\n",
    "print(\"time complexity :{:.3f} \".format(training_time))\n",
    "\n",
    "y_train_pred = tree.predict(x_train)\n",
    "y_pred = tree.predict(x_test)\n",
    "\n",
    "print(\"Training State Accuracy : \", accuracy_score(y_train, y_train_pred))\n",
    "print('Testing state Accuracy : ', accuracy_score(y_pred, y_test))\n",
    "\n",
    "from sklearn.metrics import confusion_matrix\n",
    "confusion_matrix = confusion_matrix(y_test , y_pred)\n",
    "print(confusion_matrix)\n",
    "\n",
    "import seaborn as sns\n",
    "import matplotlib.pyplot as plt\n",
    "\n",
    "# Create a heatmap for the confusion matrix\n",
    "plt.figure(figsize=(10, 8))\n",
    "sns.heatmap(confusion_matrix, annot=True, fmt='d', cmap='Blues')\n",
    "plt.xlabel('Predicted Labels')\n",
    "plt.ylabel('True Labels')\n",
    "plt.title('Confusion Matrix')\n",
    "\n",
    "plt.show()"
   ]
  },
  {
   "cell_type": "markdown",
   "id": "7225d480",
   "metadata": {},
   "source": [
    "### Random Forest"
   ]
  },
  {
   "cell_type": "code",
   "execution_count": 46,
   "id": "a65b61a1",
   "metadata": {},
   "outputs": [
    {
     "name": "stdout",
     "output_type": "stream",
     "text": [
      "time complexity :3.062 \n",
      "Accuracy Rate during Training :  0.99609375\n",
      "Accuracy Rate during Testing :  0.8601036269430051\n",
      "[[66  1  4]\n",
      " [ 7 42  4]\n",
      " [ 8  3 58]]\n"
     ]
    },
    {
     "data": {
      "image/png": "[encoded data removed]",
      "text/plain": [
       "<Figure size 720x576 with 2 Axes>"
      ]
     },
     "metadata": {
      "needs_background": "light"
     },
     "output_type": "display_data"
    }
   ],
   "source": [
    "from sklearn.ensemble import RandomForestClassifier\n",
    "forest = RandomForestClassifier(n_estimators=10 ,criterion=\"entropy\", random_state=0)\n",
    "\n",
    "start_time=time.time()\n",
    "forest.fit(x_train , y_train)\n",
    "end_time=time.time()\n",
    "training_time=end_time - start_time\n",
    "print(\"time complexity :{:.3f} \".format(training_time))\n",
    "forest.score(x_train, y_train)\n",
    "\n",
    "y_train_pred = forest.predict(x_train)\n",
    "y_pred = forest.predict(x_test)\n",
    "\n",
    "print(\"Accuracy Rate during Training : \",accuracy_score(y_train_pred, y_train))\n",
    "print(\"Accuracy Rate during Testing : \",accuracy_score(y_test, y_pred))\n",
    "\n",
    "from sklearn.metrics import confusion_matrix\n",
    "confusion_matrix = confusion_matrix(y_test , y_pred)\n",
    "print(confusion_matrix)\n",
    "\n",
    "import seaborn as sns\n",
    "import matplotlib.pyplot as plt\n",
    "\n",
    "# Create a heatmap for the confusion matrix\n",
    "plt.figure(figsize=(10, 8))\n",
    "sns.heatmap(confusion_matrix, annot=True, fmt='d', cmap='Blues')\n",
    "plt.xlabel('Predicted Labels')\n",
    "plt.ylabel('True Labels')\n",
    "plt.title('Confusion Matrix')\n",
    "\n",
    "plt.show()"
   ]
  },
  {
   "cell_type": "code",
   "execution_count": null,
   "id": "35512442",
   "metadata": {},
   "outputs": [],
   "source": []
  }
 ],
 "metadata": {
  "kernelspec": {
   "display_name": "Python 3 (ipykernel)",
   "language": "python",
   "name": "python3"
  },
  "language_info": {
   "codemirror_mode": {
    "name": "ipython",
    "version": 3
   },
   "file_extension": ".py",
   "mimetype": "text/x-python",
   "name": "python",
   "nbconvert_exporter": "python",
   "pygments_lexer": "ipython3",
   "version": "3.10.9"
  }
 },
 "nbformat": 4,
 "nbformat_minor": 5
}
