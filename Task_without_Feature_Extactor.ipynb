{
 "cells": [
  {
   "cell_type": "markdown",
   "id": "d6121b9e",
   "metadata": {},
   "source": [
    "### Libraries"
   ]
  },
  {
   "cell_type": "code",
   "execution_count": 1,
   "id": "d7419aad",
   "metadata": {},
   "outputs": [],
   "source": [
    "import pandas as pd\n",
    "import time\n",
    "import cv2 as cv\n",
    "from skimage.feature import hog\n",
    "from sklearn import svm\n",
    "from sklearn.model_selection import GridSearchCV\n",
    "import os\n",
    "import matplotlib.pyplot as plt\n",
    "from skimage.transform import resize\n",
    "from skimage.io import imread\n",
    "import numpy as np\n",
    "from sklearn.model_selection import train_test_split\n",
    "from sklearn.metrics import classification_report,accuracy_score,confusion_matrix\n",
    "import pickle"
   ]
  },
  {
   "cell_type": "markdown",
   "id": "9500b287",
   "metadata": {},
   "source": [
    "# Model Training "
   ]
  },
  {
   "cell_type": "code",
   "execution_count": 2,
   "id": "bf298ecf",
   "metadata": {},
   "outputs": [],
   "source": [
    "datadir = 'Image_Classification' # Specifying the directly where my/our file is located\n",
    "categories = ['Cars', 'Ice cream cone', 'Cricket ball'] # Defining classes in the dataset\n",
    "\n",
    "\n",
    "data_flat = [] # To store flatten images data(faltten is used for making picture 1_D)\n",
    "target = []  # For storing the target the labels \n",
    "\n",
    "# Load data for each catagory\n",
    "for category in categories:\n",
    "    path = os.path.join(datadir, category) # Full path to the catagory directory \n",
    "    for image_file in os.listdir(path):    # Iterating over each image file in the category directory\n",
    "        image = imread(os.path.join(path, image_file)) \n",
    "        image_resized = resize(image, (128, 64, 3))\n",
    "        \n",
    "        image_flat = image_resized.flatten() # flatting the image(making in 1-D)\n",
    "        data_flat.append(image_flat)         # Store/append flatten images to data_flat list\n",
    "        \n",
    "        target.append(categories.index(category))  # Store/append index of catagory into the target list\n",
    "\n",
    "data_flat = np.array(data_flat)  # Making data_flat an array\n",
    "target = np.array(target)\n",
    "\n",
    "df = pd.DataFrame(data_flat)     # Create pandas dataFrame to store flatten images\n",
    "df['target'] = target "
   ]
  },
  {
   "cell_type": "markdown",
   "id": "5ab1ec0c",
   "metadata": {},
   "source": [
    "### Spliting and FeatureScaling"
   ]
  },
  {
   "cell_type": "code",
   "execution_count": 4,
   "id": "060fea1c",
   "metadata": {},
   "outputs": [],
   "source": [
    "# Separating the data into x and y sets\n",
    "x = df.iloc[:, :-1]\n",
    "y = df.iloc[:, -1]\n",
    "\n",
    "# Spliting into training and testing sets(for HOG)\n",
    "from sklearn.model_selection import train_test_split\n",
    "x_train, x_test, y_train, y_test = train_test_split(data_flat, target, test_size = 0.2, random_state = 0)\n",
    "\n",
    "# Standardize the data\n",
    "from sklearn.metrics import accuracy_score, precision_score, recall_score\n",
    "\n",
    "from sklearn.preprocessing import StandardScaler\n",
    "scaler=StandardScaler()\n",
    "\n",
    "\n",
    "x_train=scaler.fit_transform(x_train)\n",
    "x_test=scaler.transform(x_test)"
   ]
  },
  {
   "cell_type": "markdown",
   "id": "603d090f",
   "metadata": {},
   "source": [
    "### Logistic Regression"
   ]
  },
  {
   "cell_type": "code",
   "execution_count": 5,
   "id": "2310bc4a",
   "metadata": {},
   "outputs": [
    {
     "name": "stderr",
     "output_type": "stream",
     "text": [
      "C:\\Users\\safi\\anaconda3\\lib\\site-packages\\sklearn\\linear_model\\_logistic.py:763: ConvergenceWarning: lbfgs failed to converge (status=1):\n",
      "STOP: TOTAL NO. of ITERATIONS REACHED LIMIT.\n",
      "\n",
      "Increase the number of iterations (max_iter) or scale the data as shown in:\n",
      "    https://scikit-learn.org/stable/modules/preprocessing.html\n",
      "Please also refer to the documentation for alternative solver options:\n",
      "    https://scikit-learn.org/stable/modules/linear_model.html#logistic-regression\n",
      "  n_iter_i = _check_optimize_result(\n"
     ]
    },
    {
     "name": "stdout",
     "output_type": "stream",
     "text": [
      "Training time: 14.963 seconds\n",
      "Actual Values [2 0 0 2 2 1 1 2 2 2 0 0 1 1 2 0 2 1 0 2 2 0 0 1 0 2 1 2 2 2 0 0 0 1 0 0 0\n",
      " 1 0 0 2 1 1 2 1 0 2 0 1 2 2 2 0 2 1 1 1 2 0 0 2 1 0 0 1 1 2 1 0 0 2 1 1 2\n",
      " 1 2 1 0 1 0 1 1 0 2 2 1 0 0 2 2 2 2 2 2 1 2 0 1 2 2 1 2 0 2 2 2 1 2 1 2 1\n",
      " 2 1 0 0 2 1 2 2 2 0 0 0 1 2 0 1 1 1 0 0 0 2 1 0 0 2 0 0 2 0 1 2 2 1 1 0 2\n",
      " 2 1 0 2 1 2 1 2 0 0 2 1 1 1 1 0 2 1 0 2 0 1 2 2 0 2 2 2 0 0 2 2 1 2 0 2 1\n",
      " 0 1 2 0 0 2 1 2 0 1 0 2 2]\n",
      "Predicted Values [2 0 0 2 2 1 1 2 2 2 0 0 1 1 2 0 2 1 0 2 2 0 0 1 0 2 1 2 2 2 0 0 0 1 0 0 0\n",
      " 1 0 1 2 1 1 2 1 0 2 0 1 2 2 2 0 2 1 1 1 2 0 0 2 1 0 0 1 1 2 1 0 0 2 1 1 2\n",
      " 1 2 1 0 1 0 1 1 0 2 2 1 0 0 2 2 2 2 2 2 1 2 0 1 2 2 1 2 0 2 2 2 1 2 1 2 1\n",
      " 2 1 0 0 2 1 2 2 2 0 0 0 1 2 0 1 1 1 2 0 2 2 1 0 0 2 0 0 2 0 1 2 2 1 1 0 2\n",
      " 2 1 0 2 1 2 1 2 0 0 2 1 1 1 1 0 2 1 0 2 0 1 2 2 0 2 2 2 0 0 2 2 1 2 0 2 1\n",
      " 0 1 2 0 0 2 1 2 0 1 0 1 2]\n",
      "Accuracy for training of  :  1.0\n",
      "Accuracy Test time in Logistic Regression :  0.9797979797979798\n",
      "[[60  1  2]\n",
      " [ 0 58  0]\n",
      " [ 0  1 76]]\n"
     ]
    },
    {
     "data": {
      "image/png": "[encoded data removed]",
      "text/plain": [
       "<Figure size 720x576 with 2 Axes>"
      ]
     },
     "metadata": {
      "needs_background": "light"
     },
     "output_type": "display_data"
    }
   ],
   "source": [
    "# Importing libraries\n",
    "from sklearn.linear_model import LogisticRegression\n",
    "from sklearn.metrics import accuracy_score\n",
    "\n",
    "classifier = LogisticRegression()\n",
    "\n",
    "start_time = time.time()    \n",
    "classifier.fit(x_train, y_train)\n",
    "end_time = time.time()\n",
    "training_time = end_time - start_time\n",
    "print(\"Training time: {:.3f} seconds\".format(training_time))\n",
    "\n",
    "y_train_pred = classifier.predict(x_train)\n",
    "y_pred = classifier.predict(x_test)\n",
    "\n",
    "print('Actual Values', y_test)\n",
    "print('Predicted Values', y_pred)\n",
    "\n",
    "print('Accuracy for training of  : ', accuracy_score(y_train, y_train_pred))\n",
    "print('Accuracy Test time in Logistic Regression : ', accuracy_score(y_test, y_pred) )\n",
    "\n",
    "# Confusion matrix\n",
    "from sklearn.metrics import confusion_matrix\n",
    "confusion_matrix = confusion_matrix(y_test,y_pred)\n",
    "print(confusion_matrix)\n",
    "\n",
    "import seaborn as sns\n",
    "import matplotlib.pyplot as plt\n",
    "\n",
    "# Create a heatmap for the confusion matrix\n",
    "plt.figure(figsize=(10, 8))\n",
    "sns.heatmap(confusion_matrix, annot=True, fmt='d', cmap='Blues')\n",
    "plt.xlabel('Predicted Labels')\n",
    "plt.ylabel('True Labels')\n",
    "plt.title('Confusion Matrix')\n",
    "\n",
    "plt.show()"
   ]
  },
  {
   "cell_type": "markdown",
   "id": "2ad89d4e",
   "metadata": {},
   "source": [
    "## SVM"
   ]
  },
  {
   "cell_type": "code",
   "execution_count": 6,
   "id": "89c29711",
   "metadata": {},
   "outputs": [
    {
     "name": "stdout",
     "output_type": "stream",
     "text": [
      "time complexity :7.402 \n",
      "Traning Accuracy is :  1.0\n",
      "Testing Accuracy is :  0.9797979797979798\n",
      "[[61  1  1]\n",
      " [ 0 58  0]\n",
      " [ 1  1 75]]\n"
     ]
    },
    {
     "data": {
      "image/png": "[encoded data removed]",
      "text/plain": [
       "<Figure size 720x576 with 2 Axes>"
      ]
     },
     "metadata": {
      "needs_background": "light"
     },
     "output_type": "display_data"
    }
   ],
   "source": [
    "from sklearn.svm import SVC \n",
    "\n",
    "# Next we perform the step above of (data_Spliting and StandardScaler)\n",
    "\n",
    "classifier = SVC(kernel = 'linear', random_state = 0)\n",
    "\n",
    "start_time = time.time()\n",
    "classifier.fit(x_train, y_train)\n",
    "end_time = time.time()\n",
    "\n",
    "training_time = end_time - start_time\n",
    "print(\"time complexity :{:.3f} \".format(training_time))\n",
    "\n",
    "y_pred_train = classifier.predict(x_train)\n",
    "y_pred = classifier.predict(x_test)\n",
    "\n",
    "print('Traning Accuracy is : ', accuracy_score(y_train, y_pred_train))\n",
    "print('Testing Accuracy is : ', accuracy_score(y_test, y_pred))\n",
    "\n",
    "# Now we can also find the cofusion_matrix\n",
    "from sklearn.metrics import confusion_matrix\n",
    "confusion_matrix = confusion_matrix(y_test,y_pred)\n",
    "print(confusion_matrix)\n",
    "\n",
    "import seaborn as sns\n",
    "import matplotlib.pyplot as plt\n",
    "\n",
    "# Create a heatmap for the confusion matrix\n",
    "plt.figure(figsize=(10, 8))\n",
    "sns.heatmap(confusion_matrix, annot=True, fmt='d', cmap='Blues')\n",
    "plt.xlabel('Predicted Labels')\n",
    "plt.ylabel('True Labels')\n",
    "plt.title('Confusion Matrix')\n",
    "\n",
    "plt.show()"
   ]
  },
  {
   "cell_type": "markdown",
   "id": "c54d988e",
   "metadata": {},
   "source": [
    "### Decision Tree"
   ]
  },
  {
   "cell_type": "code",
   "execution_count": 8,
   "id": "d35bc78d",
   "metadata": {},
   "outputs": [
    {
     "name": "stdout",
     "output_type": "stream",
     "text": [
      "time complexity :11.167 \n",
      "Training State Accuracy :  1.0\n",
      "Testing state Accuracy :  0.8636363636363636\n",
      "[[50  4  9]\n",
      " [ 1 53  4]\n",
      " [ 4  5 68]]\n"
     ]
    },
    {
     "data": {
      "image/png": "[encoded data removed]",
      "text/plain": [
       "<Figure size 720x576 with 2 Axes>"
      ]
     },
     "metadata": {
      "needs_background": "light"
     },
     "output_type": "display_data"
    }
   ],
   "source": [
    "from sklearn.tree import DecisionTreeClassifier\n",
    "\n",
    "tree = DecisionTreeClassifier(criterion = 'gini')\n",
    "\n",
    "start_time = time.time()\n",
    "tree.fit(x_train, y_train)\n",
    "end_time = time.time()\n",
    "\n",
    "training_time = end_time - start_time\n",
    "print(\"time complexity :{:.3f} \".format(training_time))\n",
    "\n",
    "y_train_pred = tree.predict(x_train)\n",
    "y_pred = tree.predict(x_test)\n",
    "\n",
    "print(\"Training State Accuracy : \", accuracy_score(y_train, y_train_pred))\n",
    "print('Testing state Accuracy : ', accuracy_score(y_pred, y_test))\n",
    "\n",
    "from sklearn.metrics import confusion_matrix\n",
    "confusion_matrix = confusion_matrix(y_test , y_pred)\n",
    "print(confusion_matrix)\n",
    "\n",
    "import seaborn as sns\n",
    "import matplotlib.pyplot as plt\n",
    "\n",
    "# Create a heatmap for the confusion matrix\n",
    "plt.figure(figsize=(10, 8))\n",
    "sns.heatmap(confusion_matrix, annot=True, fmt='d', cmap='Blues')\n",
    "plt.xlabel('Predicted Labels')\n",
    "plt.ylabel('True Labels')\n",
    "plt.title('Confusion Matrix')\n",
    "\n",
    "plt.show()"
   ]
  },
  {
   "cell_type": "markdown",
   "id": "1791a377",
   "metadata": {},
   "source": [
    "### Random Forest"
   ]
  },
  {
   "cell_type": "code",
   "execution_count": 9,
   "id": "397c0dd9",
   "metadata": {},
   "outputs": [
    {
     "name": "stdout",
     "output_type": "stream",
     "text": [
      "time complexity :1.143 \n",
      "Accuracy Rate during Training :  0.9987325728770595\n",
      "Accuracy Rate during Testing :  0.9393939393939394\n",
      "[[61  1  1]\n",
      " [ 0 56  2]\n",
      " [ 5  3 69]]\n"
     ]
    },
    {
     "data": {
      "image/png": "[encoded data removed]",
      "text/plain": [
       "<Figure size 720x576 with 2 Axes>"
      ]
     },
     "metadata": {
      "needs_background": "light"
     },
     "output_type": "display_data"
    }
   ],
   "source": [
    "from sklearn.ensemble import RandomForestClassifier\n",
    "forest = RandomForestClassifier(n_estimators=10 ,criterion=\"entropy\", random_state=0)\n",
    "\n",
    "start_time=time.time()\n",
    "forest.fit(x_train , y_train)\n",
    "end_time=time.time()\n",
    "training_time=end_time - start_time\n",
    "print(\"time complexity :{:.3f} \".format(training_time))\n",
    "forest.score(x_train, y_train)\n",
    "\n",
    "y_train_pred = forest.predict(x_train)\n",
    "y_pred = forest.predict(x_test)\n",
    "\n",
    "print(\"Accuracy Rate during Training : \",accuracy_score(y_train_pred, y_train))\n",
    "print(\"Accuracy Rate during Testing : \",accuracy_score(y_test, y_pred))\n",
    "\n",
    "from sklearn.metrics import confusion_matrix\n",
    "confusion_matrix = confusion_matrix(y_test , y_pred)\n",
    "print(confusion_matrix)\n",
    "\n",
    "import seaborn as sns\n",
    "import matplotlib.pyplot as plt\n",
    "\n",
    "# Create a heatmap for the confusion matrix\n",
    "plt.figure(figsize=(10, 8))\n",
    "sns.heatmap(confusion_matrix, annot=True, fmt='d', cmap='Blues')\n",
    "plt.xlabel('Predicted Labels')\n",
    "plt.ylabel('True Labels')\n",
    "plt.title('Confusion Matrix')\n",
    "\n",
    "plt.show()"
   ]
  },
  {
   "cell_type": "code",
   "execution_count": null,
   "id": "e9bcf1e5",
   "metadata": {},
   "outputs": [],
   "source": []
  },
  {
   "cell_type": "code",
   "execution_count": null,
   "id": "0949cfb2",
   "metadata": {},
   "outputs": [],
   "source": []
  }
 ],
 "metadata": {
  "kernelspec": {
   "display_name": "Python 3 (ipykernel)",
   "language": "python",
   "name": "python3"
  },
  "language_info": {
   "codemirror_mode": {
    "name": "ipython",
    "version": 3
   },
   "file_extension": ".py",
   "mimetype": "text/x-python",
   "name": "python",
   "nbconvert_exporter": "python",
   "pygments_lexer": "ipython3",
   "version": "3.10.9"
  }
 },
 "nbformat": 4,
 "nbformat_minor": 5
}
